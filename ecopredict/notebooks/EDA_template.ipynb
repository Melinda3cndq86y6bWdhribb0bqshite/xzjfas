# Exploratory Data Analysis Template
This notebook provides a template for initial data exploration and visualization.
