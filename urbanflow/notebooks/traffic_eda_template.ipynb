# Traffic Data EDA Template
This notebook provides a template for exploratory data analysis of historical traffic sensor data.
